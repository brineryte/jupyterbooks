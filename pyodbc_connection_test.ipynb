{
 "cells": [
  {
   "cell_type": "markdown",
   "metadata": {},
   "source": [
    "## SET UP PYODBC"
   ]
  },
  {
   "cell_type": "code",
   "execution_count": 6,
   "metadata": {},
   "outputs": [
    {
     "name": "stdout",
     "output_type": "stream",
     "text": [
      "10 Most Recent Items!\n",
      "=====================\n",
      "ItemId: 1, ItemNumber: 2017-11-03 10:18:53.010000\n",
      "ItemId: 2, ItemNumber: 2017-11-03 10:18:53.010000\n",
      "ItemId: 3, ItemNumber: 2017-11-03 10:18:53.010000\n",
      "ItemId: 4, ItemNumber: 2017-11-03 10:18:53.010000\n",
      "ItemId: 5, ItemNumber: 2017-11-03 10:18:53.010000\n",
      "ItemId: 6, ItemNumber: 2017-11-03 10:18:53.010000\n",
      "ItemId: 7, ItemNumber: 2017-11-03 10:18:53.010000\n",
      "ItemId: 8, ItemNumber: 2017-11-03 10:18:53.010000\n",
      "ItemId: 9, ItemNumber: 2017-11-03 10:18:53.010000\n",
      "ItemId: 10, ItemNumber: 2017-11-03 10:18:53.010000\n",
      "ItemId: 11, ItemNumber: 2017-11-03 10:18:53.010000\n",
      "ItemId: 12, ItemNumber: 2017-11-03 10:18:53.010000\n",
      "ItemId: 13, ItemNumber: 2017-11-03 10:18:53.010000\n",
      "ItemId: 14, ItemNumber: 2017-11-03 10:18:53.010000\n",
      "ItemId: 15, ItemNumber: 2017-11-03 10:18:53.010000\n",
      "ItemId: 16, ItemNumber: 2017-11-03 10:18:53.010000\n",
      "ItemId: 17, ItemNumber: 2017-11-03 10:18:53.010000\n",
      "ItemId: 18, ItemNumber: 2017-11-03 10:18:53.010000\n",
      "ItemId: 20, ItemNumber: 2017-11-03 10:18:53.010000\n",
      "ItemId: 22, ItemNumber: 2017-11-03 10:18:53.010000\n"
     ]
    }
   ],
   "source": [
    "import pyodbc\n",
    "\n",
    "# pyodbc.drivers()\n",
    "driver = 'ODBC Driver 17 for SQL Server'\n",
    "server = 'ClarkChains-rp.test.mssql.db.backends.tech'\n",
    "liveserverdev='L1DMS.wd.clarkinc.io'\n",
    "liveservertest='ClarkChains-ro.home.mssql.db.backends.tech'\n",
    "db = 'ClarkChains'\n",
    "\n",
    "cnxn = pyodbc.connect('DRIVER={'+driver+'};SERVER='+server+';DATABASE='+db+';Trusted_Connection=Yes;')\n",
    "\n",
    "cursor = cnxn.cursor()\n",
    "\n",
    "cursor.execute('''\n",
    "    SELECT TOP 20 * FROM item.Item WHERE DateDeleted IS NULL\n",
    "''')\n",
    " \n",
    "print('10 Most Recent Items!')\n",
    "print('=====================')\n",
    "for row in cursor:\n",
    "    print(f'ItemId: {row[0]}, ItemNumber: {row[1]}')\n",
    "\n",
    "# TODO: Get live test DB creds for setting this up in dockercontainer\n",
    "\n",
    "    "
   ]
  },
  {
   "cell_type": "code",
   "execution_count": null,
   "metadata": {},
   "outputs": [],
   "source": []
  }
 ],
 "metadata": {
  "kernelspec": {
   "display_name": "Python 3",
   "language": "python",
   "name": "python3"
  },
  "language_info": {
   "codemirror_mode": {
    "name": "ipython",
    "version": 3
   },
   "file_extension": ".py",
   "mimetype": "text/x-python",
   "name": "python",
   "nbconvert_exporter": "python",
   "pygments_lexer": "ipython3",
   "version": "3.8.5"
  }
 },
 "nbformat": 4,
 "nbformat_minor": 4
}
