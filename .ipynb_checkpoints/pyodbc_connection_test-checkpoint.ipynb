{
 "cells": [
  {
   "cell_type": "markdown",
   "metadata": {},
   "source": [
    "## SET UP PYODBC"
   ]
  },
  {
   "cell_type": "code",
   "execution_count": 4,
   "metadata": {},
   "outputs": [
    {
     "ename": "ProgrammingError",
     "evalue": "('42S22', \"[42S22] [Microsoft][ODBC Driver 17 for SQL Server][SQL Server]Invalid column name 'Date_Deleted'. (207) (SQLExecDirectW)\")",
     "output_type": "error",
     "traceback": [
      "\u001b[1;31m-----------------------------------------------------\u001b[0m",
      "\u001b[1;31mProgrammingError\u001b[0m    Traceback (most recent call last)",
      "\u001b[1;32m<ipython-input-4-9cdfe49a0ecd>\u001b[0m in \u001b[0;36m<module>\u001b[1;34m\u001b[0m\n\u001b[0;32m     12\u001b[0m \u001b[0mcursor\u001b[0m \u001b[1;33m=\u001b[0m \u001b[0mcnxn\u001b[0m\u001b[1;33m.\u001b[0m\u001b[0mcursor\u001b[0m\u001b[1;33m(\u001b[0m\u001b[1;33m)\u001b[0m\u001b[1;33m\u001b[0m\u001b[1;33m\u001b[0m\u001b[0m\n\u001b[0;32m     13\u001b[0m \u001b[1;33m\u001b[0m\u001b[0m\n\u001b[1;32m---> 14\u001b[1;33m cursor.execute('''\n\u001b[0m\u001b[0;32m     15\u001b[0m     \u001b[0mSELECT\u001b[0m \u001b[0mTOP\u001b[0m \u001b[1;36m20\u001b[0m \u001b[1;33m*\u001b[0m \u001b[0mFROM\u001b[0m \u001b[0mitem\u001b[0m\u001b[1;33m.\u001b[0m\u001b[0mItem\u001b[0m \u001b[0mWHERE\u001b[0m \u001b[0mDate_Deleted\u001b[0m \u001b[0mIS\u001b[0m \u001b[0mNULL\u001b[0m\u001b[1;33m\u001b[0m\u001b[1;33m\u001b[0m\u001b[0m\n\u001b[0;32m     16\u001b[0m ''')\n",
      "\u001b[1;31mProgrammingError\u001b[0m: ('42S22', \"[42S22] [Microsoft][ODBC Driver 17 for SQL Server][SQL Server]Invalid column name 'Date_Deleted'. (207) (SQLExecDirectW)\")"
     ]
    }
   ],
   "source": [
    "import pyodbc\n",
    "\n",
    "# pyodbc.drivers()\n",
    "driver = 'ODBC Driver 17 for SQL Server'\n",
    "server = 'ClarkChains-rp.test.mssql.db.backends.tech'\n",
    "liveserverdev='L1DMS.wd.clarkinc.io'\n",
    "liveservertest='ClarkChains-ro.home.mssql.db.backends.tech'\n",
    "db = 'ClarkChains'\n",
    "\n",
    "cnxn = pyodbc.connect('DRIVER={'+driver+'};SERVER='+liveserverdev+';DATABASE='+db+';Trusted_Connection=Yes;')\n",
    "\n",
    "cursor = cnxn.cursor()\n",
    "\n",
    "cursor.execute('''\n",
    "    SELECT TOP 20 * FROM item.Item WHERE Date_Deleted IS NULL\n",
    "''')\n",
    " \n",
    "print('10 Most Recent Items!')\n",
    "print('=====================')\n",
    "for row in cursor:\n",
    "    print(f'ItemId: {row[0]}, ItemNumber: {row[1]}')\n",
    "\n",
    "# TODO: Get live test DB creds for setting this up in dockercontainer\n",
    "\n",
    "    "
   ]
  },
  {
   "cell_type": "code",
   "execution_count": null,
   "metadata": {},
   "outputs": [],
   "source": []
  }
 ],
 "metadata": {
  "kernelspec": {
   "display_name": "Python 3",
   "language": "python",
   "name": "python3"
  },
  "language_info": {
   "codemirror_mode": {
    "name": "ipython",
    "version": 3
   },
   "file_extension": ".py",
   "mimetype": "text/x-python",
   "name": "python",
   "nbconvert_exporter": "python",
   "pygments_lexer": "ipython3",
   "version": "3.8.5"
  }
 },
 "nbformat": 4,
 "nbformat_minor": 4
}
